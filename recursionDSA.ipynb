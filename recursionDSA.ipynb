{
  "nbformat": 4,
  "nbformat_minor": 0,
  "metadata": {
    "colab": {
      "provenance": [],
      "authorship_tag": "ABX9TyNo8EhrW0fl+w1s/BgxiKo2",
      "include_colab_link": true
    },
    "kernelspec": {
      "name": "python3",
      "display_name": "Python 3"
    },
    "language_info": {
      "name": "python"
    }
  },
  "cells": [
    {
      "cell_type": "markdown",
      "metadata": {
        "id": "view-in-github",
        "colab_type": "text"
      },
      "source": [
        "<a href=\"https://colab.research.google.com/github/abhijitkshinde/Python_practice/blob/main/recursionDSA.ipynb\" target=\"_parent\"><img src=\"https://colab.research.google.com/assets/colab-badge.svg\" alt=\"Open In Colab\"/></a>"
      ]
    },
    {
      "cell_type": "markdown",
      "source": [
        "Given matrix of n*m find number of unique paths if move right by one and left by one\n"
      ],
      "metadata": {
        "id": "aIWdygk3ZCNz"
      }
    },
    {
      "cell_type": "code",
      "source": [
        "def find_path(n,m):\n",
        "  if n==1 or m ==1:\n",
        "    return 1\n",
        "  return find_path(n-1,m) + find_path(n,m-1)"
      ],
      "metadata": {
        "id": "Yk7J8MvfZTzS"
      },
      "execution_count": null,
      "outputs": []
    },
    {
      "cell_type": "markdown",
      "source": [
        "Above function when we count for the path while reducing 1 from either row or column we have to move only 1 steps for each step in thoes ones so we add both"
      ],
      "metadata": {
        "id": "XXXjxZweaRPd"
      }
    },
    {
      "cell_type": "code",
      "source": [
        "find_path(3,4)"
      ],
      "metadata": {
        "colab": {
          "base_uri": "https://localhost:8080/"
        },
        "id": "H6kxmxO0ZvVG",
        "outputId": "a67aad35-79bd-446c-8690-f3e15b2d89a8"
      },
      "execution_count": null,
      "outputs": [
        {
          "output_type": "execute_result",
          "data": {
            "text/plain": [
              "10"
            ]
          },
          "metadata": {},
          "execution_count": 4
        }
      ]
    },
    {
      "cell_type": "code",
      "source": [],
      "metadata": {
        "id": "bIkqk0_wa8oh"
      },
      "execution_count": null,
      "outputs": []
    },
    {
      "cell_type": "code",
      "source": [
        "def fact(n):\n",
        "  if n == 0:\n",
        "    return 1\n",
        "  return n*fact(n-1)"
      ],
      "metadata": {
        "id": "UwIHsVHmxjCv"
      },
      "execution_count": null,
      "outputs": []
    },
    {
      "cell_type": "code",
      "source": [
        "fact(5)"
      ],
      "metadata": {
        "colab": {
          "base_uri": "https://localhost:8080/"
        },
        "id": "wXhh3SuQxvDO",
        "outputId": "9bbc4ec0-ec89-4c16-cda1-2d225be8b977"
      },
      "execution_count": null,
      "outputs": [
        {
          "output_type": "execute_result",
          "data": {
            "text/plain": [
              "120"
            ]
          },
          "metadata": {},
          "execution_count": 12
        }
      ]
    },
    {
      "cell_type": "code",
      "source": [
        "fact(3)"
      ],
      "metadata": {
        "colab": {
          "base_uri": "https://localhost:8080/"
        },
        "id": "aI2xWrihx_je",
        "outputId": "76dd1189-401a-42ff-dc35-d6d439ec98fc"
      },
      "execution_count": null,
      "outputs": [
        {
          "output_type": "execute_result",
          "data": {
            "text/plain": [
              "6"
            ]
          },
          "metadata": {},
          "execution_count": 13
        }
      ]
    },
    {
      "cell_type": "code",
      "source": [
        "fact(950)"
      ],
      "metadata": {
        "colab": {
          "base_uri": "https://localhost:8080/"
        },
        "id": "gNebn4wJyGBR",
        "outputId": "b9ce7e60-068a-40e6-f1ce-f534c18bffb8"
      },
      "execution_count": null,
      "outputs": [
        {
          "output_type": "execute_result",
          "data": {
            "text/plain": [
              "1398482541782935643804076691560480889915998440155817289184424361471088554831945426769627793564422182417055106164687328968800337838015092091902426708062585754575758761840629101148022202088616791912489053482866845368492689362680348653796205483555373854592456218070694691705525740396798705940868646724824284207093151611109576110720548444329317710216110647877991896226422491521850828595540404858022075949677336135888382223667261520227307746590278225849364822818688836257463054227780939230451103538710215851987205677537048482160223572199279284117451224132373001283371301327748829720294520197304170767712014548861589250006845399476495213899063451656157650046959183486755881486521917991465353136174132572085159554294308742343997607375110074558336621161865669641233890984526944612898577907685789137489893983148709227096968737623566896040242263207335675963585922754508701637571117210471564252770570750986133957864067854642461333055446897356256150227759705161144342074998081690812845683437831834697577243723598629942007502158280264176806534264401532973204717702416909416881338635446682316115641175873267562660403190728153051309523731329937953128064805704669965310761454031007380577278555676647463602920304388801983631722813659620707911156485861041283361984654669874236982608585132243947301552513613611220015558453448924690739929122514945064605460031495266893341079448598602888778912070021944443316296980075190303839112675319752345427865151848929296445310091170773808682347150322723856486107805316543473255318746117468843202152153020851636933294448384581108333226009129599161980428471679024129941277718802294844225208011510362580468464079539685857597219536595114366720698051081028644017686258454536950017818406904897903310294734749680357539808121993820966632438607133926895767650158824385429998931170890049739411385071900802105888683110544033206102184261669482758401109754069003250076283022582711306994996277879328045961071730358543540500962142907125663566830842880290774899152437963716454512427624332124652969580549126054320287541325135782164668167493343515686764514235963736449314315122164198258363850671212708602703180299255302930935371174390553238003525108112573507911441672412518463779635200000000000000000000000000000000000000000000000000000000000000000000000000000000000000000000000000000000000000000000000000000000000000000000000000000000000000000000000000000000000000000000000000000000000000000000000000000000000000000000"
            ]
          },
          "metadata": {},
          "execution_count": 15
        }
      ]
    },
    {
      "cell_type": "code",
      "source": [],
      "metadata": {
        "id": "6Z0LTKRrCmul"
      },
      "execution_count": null,
      "outputs": []
    }
  ]
}