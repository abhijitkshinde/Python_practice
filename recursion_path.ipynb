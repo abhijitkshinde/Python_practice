{
  "nbformat": 4,
  "nbformat_minor": 0,
  "metadata": {
    "colab": {
      "provenance": [],
      "authorship_tag": "ABX9TyPx58nO87pI/F5rq2b61Ndx",
      "include_colab_link": true
    },
    "kernelspec": {
      "name": "python3",
      "display_name": "Python 3"
    },
    "language_info": {
      "name": "python"
    }
  },
  "cells": [
    {
      "cell_type": "markdown",
      "metadata": {
        "id": "view-in-github",
        "colab_type": "text"
      },
      "source": [
        "<a href=\"https://colab.research.google.com/github/abhijitkshinde/Python_practice/blob/main/recursion_path.ipynb\" target=\"_parent\"><img src=\"https://colab.research.google.com/assets/colab-badge.svg\" alt=\"Open In Colab\"/></a>"
      ]
    },
    {
      "cell_type": "markdown",
      "source": [
        "Given matrix of n*m find number of unique paths if move right by one and left by one\n"
      ],
      "metadata": {
        "id": "aIWdygk3ZCNz"
      }
    },
    {
      "cell_type": "code",
      "source": [
        "def find_path(n,m):\n",
        "  if n==1 or m ==1:\n",
        "    return 1\n",
        "  return find_path(n-1,m) + find_path(n,m-1)"
      ],
      "metadata": {
        "id": "Yk7J8MvfZTzS"
      },
      "execution_count": 1,
      "outputs": []
    },
    {
      "cell_type": "markdown",
      "source": [
        "Above function when we count for the path while reducing 1 from either row or column we have to move only 1 steps for each step in thoes ones so we add both"
      ],
      "metadata": {
        "id": "XXXjxZweaRPd"
      }
    },
    {
      "cell_type": "code",
      "source": [
        "find_path(3,4)"
      ],
      "metadata": {
        "colab": {
          "base_uri": "https://localhost:8080/"
        },
        "id": "H6kxmxO0ZvVG",
        "outputId": "a67aad35-79bd-446c-8690-f3e15b2d89a8"
      },
      "execution_count": 4,
      "outputs": [
        {
          "output_type": "execute_result",
          "data": {
            "text/plain": [
              "10"
            ]
          },
          "metadata": {},
          "execution_count": 4
        }
      ]
    },
    {
      "cell_type": "code",
      "source": [],
      "metadata": {
        "id": "bIkqk0_wa8oh"
      },
      "execution_count": null,
      "outputs": []
    }
  ]
}